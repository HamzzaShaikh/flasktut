{
 "cells": [
  {
   "cell_type": "markdown",
   "id": "f8abfb5c",
   "metadata": {},
   "source": [
    "# Flask Basics - Jupyter Notebook\n"
   ]
  },
  {
   "cell_type": "markdown",
   "id": "3d1a5167",
   "metadata": {},
   "source": [
    "Create Flask Application"
   ]
  },
  {
   "cell_type": "code",
   "execution_count": null,
   "id": "f11eae2a",
   "metadata": {},
   "outputs": [],
   "source": [
    "from flask import Flask\n",
    "\n",
    "app = Flask(__name__)\n"
   ]
  },
  {
   "cell_type": "markdown",
   "id": "5d93bb76",
   "metadata": {},
   "source": [
    "\n",
    "Defining Endpoints"
   ]
  },
  {
   "cell_type": "code",
   "execution_count": null,
   "id": "a8cc1859",
   "metadata": {},
   "outputs": [],
   "source": [
    "@app.route('/')\n",
    "def home():\n",
    "    return \"Hello World\"\n"
   ]
  },
  {
   "cell_type": "markdown",
   "id": "84252189",
   "metadata": {},
   "source": [
    "\n",
    "Defining Endpoints with HTML pages to render\n",
    " - You must import render_template from flask, this will route the endpoints defined to any html page you've already created. !! These pages must be in their own folder labeled \"templates\"!!"
   ]
  },
  {
   "cell_type": "code",
   "execution_count": null,
   "id": "63b28d9e",
   "metadata": {},
   "outputs": [],
   "source": [
    "from flask import render_template\n",
    "\n",
    "@app.route('/')\n",
    "def home():\n",
    "    return render_template(\"htmlpage.html\")"
   ]
  },
  {
   "cell_type": "markdown",
   "id": "5ca78450",
   "metadata": {},
   "source": [
    "\n",
    "Handling HTTP Requests\n",
    " - Be mindful of the fact that you must define any pages containing requests besides \"GET\" with the requests they will have"
   ]
  },
  {
   "cell_type": "code",
   "execution_count": null,
   "id": "94649a8a",
   "metadata": {},
   "outputs": [],
   "source": [
    "from flask import request\n",
    "\n",
    "@app.route('/page2', methods = [\"POST\", \"GET\"])\n",
    "def secondPage():\n",
    "    if request.method == \"POST\":\n",
    "        someInfo = request.form.get(\"infoName\")\n",
    "    return render_template(\"htmlpage.html\")"
   ]
  }
 ],
 "metadata": {
  "kernelspec": {
   "display_name": "Python 3 (ipykernel)",
   "language": "python",
   "name": "python3"
  },
  "language_info": {
   "codemirror_mode": {
    "name": "ipython",
    "version": 3
   },
   "file_extension": ".py",
   "mimetype": "text/x-python",
   "name": "python",
   "nbconvert_exporter": "python",
   "pygments_lexer": "ipython3",
   "version": "3.9.12"
  }
 },
 "nbformat": 4,
 "nbformat_minor": 5
}
